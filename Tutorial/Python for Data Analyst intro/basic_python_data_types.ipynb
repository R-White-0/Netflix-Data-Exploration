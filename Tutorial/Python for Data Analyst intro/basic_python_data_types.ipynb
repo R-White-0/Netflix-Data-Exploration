{
 "cells": [
  {
   "cell_type": "markdown",
   "source": [
    "## Data Exploration"
   ],
   "metadata": {}
  },
  {
   "cell_type": "code",
   "execution_count": 1,
   "source": [
    "x = 5 \r\n",
    "print(x)"
   ],
   "outputs": [
    {
     "output_type": "stream",
     "name": "stdout",
     "text": [
      "5\n"
     ]
    }
   ],
   "metadata": {}
  }
 ],
 "metadata": {
  "orig_nbformat": 4,
  "language_info": {
   "name": "python",
   "version": "3.8.11",
   "mimetype": "text/x-python",
   "codemirror_mode": {
    "name": "ipython",
    "version": 3
   },
   "pygments_lexer": "ipython3",
   "nbconvert_exporter": "python",
   "file_extension": ".py"
  },
  "kernelspec": {
   "name": "python3",
   "display_name": "Python 3.8.11 64-bit ('demo': conda)"
  },
  "interpreter": {
   "hash": "932bb86fe413b86d91a65f7f6d90fdc0b10b670ac0cfa9268af676852afa2c49"
  }
 },
 "nbformat": 4,
 "nbformat_minor": 2
}